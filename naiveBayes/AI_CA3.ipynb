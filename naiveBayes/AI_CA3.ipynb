{
 "cells": [
  {
   "cell_type": "markdown",
   "metadata": {},
   "source": [
    "<div style=\"direction:rtl;font-size: 20px;text-align: justify;line-height: 1.6;\"> \n",
    "    <img src=\"https://upload.wikimedia.org/wikipedia/fa/thumb/f/fd/University_of_Tehran_logo.svg/1200px-University_of_Tehran_logo.svg.png\" style=\"float:left;width:140px;padding-top: 10px\" />\n",
    "    <div style=\"font-size: 20px;padding-top: 30px;\"><b>پروژه سوم : Naive Bayes Classifier</b></div>\n",
    "    <div style=\"font-size: 16px;margin-top: 20px;\">ثمین مهدی زاده 810196623</div>\n",
    "</div>"
   ]
  },
  {
   "cell_type": "markdown",
   "metadata": {},
   "source": [
    "<div style=\"direction:rtl;font-size: 17px;text-align: justify;line-height: 1.6\"> \n",
    "    در این پروژه با استفاده از Naive Base Classifier به تجزیه و تحلیل کامنت ها پرداخته شده و مثبت یا منفی بودن نظرات بر طبق متن آن ها تشخیص داده شده است.\n",
    "</div>"
   ]
  },
  {
   "cell_type": "code",
   "execution_count": 1,
   "metadata": {},
   "outputs": [],
   "source": [
    "from hazm import *\n",
    "import pandas as pd\n",
    "import matplotlib.pyplot as plt\n",
    "import numpy as np\n",
    "import time\n",
    "import numpy as np\n",
    "import random\n",
    "import seaborn as seaborn"
   ]
  },
  {
   "cell_type": "markdown",
   "metadata": {},
   "source": [
    "<div style=\"direction:rtl;font-size: 17px;text-align: justify;line-height: 1.6\"> \n",
    "دو فایل یکی جهت آموزش(comment_train.csv)و دیگری جهت تست و ارزش یابی مدل (comment_test.csv)مورداستفاده قرار گرفته است.\n",
    "</div>"
   ]
  },
  {
   "cell_type": "code",
   "execution_count": 2,
   "metadata": {},
   "outputs": [
    {
     "data": {
      "text/html": [
       "<div>\n",
       "<style scoped>\n",
       "    .dataframe tbody tr th:only-of-type {\n",
       "        vertical-align: middle;\n",
       "    }\n",
       "\n",
       "    .dataframe tbody tr th {\n",
       "        vertical-align: top;\n",
       "    }\n",
       "\n",
       "    .dataframe thead th {\n",
       "        text-align: right;\n",
       "    }\n",
       "</style>\n",
       "<table border=\"1\" class=\"dataframe\">\n",
       "  <thead>\n",
       "    <tr style=\"text-align: right;\">\n",
       "      <th></th>\n",
       "      <th>title</th>\n",
       "      <th>comment</th>\n",
       "      <th>recommend</th>\n",
       "    </tr>\n",
       "  </thead>\n",
       "  <tbody>\n",
       "    <tr>\n",
       "      <th>0</th>\n",
       "      <td>زیبا اما کم دوام</td>\n",
       "      <td>با وجود سابقه خوبی که از برند ایرانی نهرین سرا...</td>\n",
       "      <td>not_recommended</td>\n",
       "    </tr>\n",
       "    <tr>\n",
       "      <th>1</th>\n",
       "      <td>بسیار عالی</td>\n",
       "      <td>بسیار عالی</td>\n",
       "      <td>recommended</td>\n",
       "    </tr>\n",
       "    <tr>\n",
       "      <th>2</th>\n",
       "      <td>سلام</td>\n",
       "      <td>من الان ۳ هفته هست استفاده میکنم\\r\\nبرای کسایی...</td>\n",
       "      <td>not_recommended</td>\n",
       "    </tr>\n",
       "    <tr>\n",
       "      <th>3</th>\n",
       "      <td>به درد نمیخورهههه</td>\n",
       "      <td>عمرش کمه تا یه هفته بیشتر نمیشه استفاده کرد یا...</td>\n",
       "      <td>not_recommended</td>\n",
       "    </tr>\n",
       "    <tr>\n",
       "      <th>4</th>\n",
       "      <td>کلمن آب</td>\n",
       "      <td>فکر کنین کلمن بخرین با ذوق. کلی پولشو بدین. به...</td>\n",
       "      <td>not_recommended</td>\n",
       "    </tr>\n",
       "    <tr>\n",
       "      <th>...</th>\n",
       "      <td>...</td>\n",
       "      <td>...</td>\n",
       "      <td>...</td>\n",
       "    </tr>\n",
       "    <tr>\n",
       "      <th>5995</th>\n",
       "      <td>جنسش عالیه</td>\n",
       "      <td>خیلی جنس پارچش نرم ولطیفه خیلیم جنسش خوبه اما ...</td>\n",
       "      <td>recommended</td>\n",
       "    </tr>\n",
       "    <tr>\n",
       "      <th>5996</th>\n",
       "      <td>خرید محصول</td>\n",
       "      <td>سلام.واقعا فکر نمی کردم به این راحتی اصلاح کنم...</td>\n",
       "      <td>recommended</td>\n",
       "    </tr>\n",
       "    <tr>\n",
       "      <th>5997</th>\n",
       "      <td>تعریف</td>\n",
       "      <td>من از دیجی کالا خریدم خیلی زود دستم رسید،زیبا،...</td>\n",
       "      <td>recommended</td>\n",
       "    </tr>\n",
       "    <tr>\n",
       "      <th>5998</th>\n",
       "      <td>اصلا چای ماچا نیسش</td>\n",
       "      <td>یا شرکت نمیدونسته چای ماچا امپریال چیه یا واقع...</td>\n",
       "      <td>not_recommended</td>\n",
       "    </tr>\n",
       "    <tr>\n",
       "      <th>5999</th>\n",
       "      <td>یک هدست بدون سیم عالی</td>\n",
       "      <td>این هدست را چند هفته قبل از سایت دیجی کالا خری...</td>\n",
       "      <td>recommended</td>\n",
       "    </tr>\n",
       "  </tbody>\n",
       "</table>\n",
       "<p>6000 rows × 3 columns</p>\n",
       "</div>"
      ],
      "text/plain": [
       "                      title  \\\n",
       "0          زیبا اما کم دوام   \n",
       "1                بسیار عالی   \n",
       "2                      سلام   \n",
       "3         به درد نمیخورهههه   \n",
       "4                   کلمن آب   \n",
       "...                     ...   \n",
       "5995             جنسش عالیه   \n",
       "5996             خرید محصول   \n",
       "5997                  تعریف   \n",
       "5998     اصلا چای ماچا نیسش   \n",
       "5999  یک هدست بدون سیم عالی   \n",
       "\n",
       "                                                comment        recommend  \n",
       "0     با وجود سابقه خوبی که از برند ایرانی نهرین سرا...  not_recommended  \n",
       "1                                            بسیار عالی      recommended  \n",
       "2     من الان ۳ هفته هست استفاده میکنم\\r\\nبرای کسایی...  not_recommended  \n",
       "3     عمرش کمه تا یه هفته بیشتر نمیشه استفاده کرد یا...  not_recommended  \n",
       "4     فکر کنین کلمن بخرین با ذوق. کلی پولشو بدین. به...  not_recommended  \n",
       "...                                                 ...              ...  \n",
       "5995  خیلی جنس پارچش نرم ولطیفه خیلیم جنسش خوبه اما ...      recommended  \n",
       "5996  سلام.واقعا فکر نمی کردم به این راحتی اصلاح کنم...      recommended  \n",
       "5997  من از دیجی کالا خریدم خیلی زود دستم رسید،زیبا،...      recommended  \n",
       "5998  یا شرکت نمیدونسته چای ماچا امپریال چیه یا واقع...  not_recommended  \n",
       "5999  این هدست را چند هفته قبل از سایت دیجی کالا خری...      recommended  \n",
       "\n",
       "[6000 rows x 3 columns]"
      ]
     },
     "execution_count": 2,
     "metadata": {},
     "output_type": "execute_result"
    }
   ],
   "source": [
    "train = pd.read_csv('CA3_dataset/comment_train.csv')\n",
    "test = pd.read_csv('CA3_dataset/comment_test.csv')\n",
    "train"
   ]
  },
  {
   "cell_type": "markdown",
   "metadata": {},
   "source": [
    "<div style=\"direction:rtl;font-size: 17px;text-align: justify;line-height: 1.6\"> \n",
    "    همان طور که مشاهده می شود هیچ کدام از داده های آموزشی خالی نیستد و احتیاجی به حذف آنها نداریم.\n",
    " </div>"
   ]
  },
  {
   "cell_type": "code",
   "execution_count": 3,
   "metadata": {},
   "outputs": [
    {
     "name": "stdout",
     "output_type": "stream",
     "text": [
      "<class 'pandas.core.frame.DataFrame'>\n",
      "RangeIndex: 6000 entries, 0 to 5999\n",
      "Data columns (total 3 columns):\n",
      " #   Column     Non-Null Count  Dtype \n",
      "---  ------     --------------  ----- \n",
      " 0   title      6000 non-null   object\n",
      " 1   comment    6000 non-null   object\n",
      " 2   recommend  6000 non-null   object\n",
      "dtypes: object(3)\n",
      "memory usage: 140.8+ KB\n"
     ]
    }
   ],
   "source": [
    "train.info()"
   ]
  },
  {
   "cell_type": "markdown",
   "metadata": {},
   "source": [
    "<div style=\"direction:rtl;font-size: 17px;text-align: justify;line-height: 1.6\"> \n",
    "دو نمودار زیر چگونگی توزیع نظرات را نشان می دهد.در هر دو داده ی آموزشی و تست نظرات مخالف و موافق به یک اندازه بوده است.\n",
    "</div>"
   ]
  },
  {
   "cell_type": "code",
   "execution_count": 4,
   "metadata": {},
   "outputs": [
    {
     "data": {
      "text/plain": [
       "<matplotlib.axes._subplots.AxesSubplot at 0x1a26155750>"
      ]
     },
     "execution_count": 4,
     "metadata": {},
     "output_type": "execute_result"
    },
    {
     "data": {
      "image/png": "[encoded data removed]",
      "text/plain": [
       "<Figure size 432x288 with 1 Axes>"
      ]
     },
     "metadata": {
      "needs_background": "light"
     },
     "output_type": "display_data"
    }
   ],
   "source": [
    "seaborn.countplot(train['recommend'])"
   ]
  },
  {
   "cell_type": "code",
   "execution_count": 5,
   "metadata": {},
   "outputs": [
    {
     "data": {
      "text/plain": [
       "<matplotlib.axes._subplots.AxesSubplot at 0x1a26e312d0>"
      ]
     },
     "execution_count": 5,
     "metadata": {},
     "output_type": "execute_result"
    },
    {
     "data": {
      "image/png": "[encoded data removed]",
      "text/plain": [
       "<Figure size 432x288 with 1 Axes>"
      ]
     },
     "metadata": {
      "needs_background": "light"
     },
     "output_type": "display_data"
    }
   ],
   "source": [
    "seaborn.countplot(test['recommend'])"
   ]
  },
  {
   "cell_type": "markdown",
   "metadata": {},
   "source": [
    "<div style=\"direction:rtl;font-size: 17px;text-align: justify;line-height: 1.6\"> \n",
    "    جهت تجزیه و تحلیل کامنت ها کلاس Naïve_bayes زده شده است.پارامتر alpha جهت ورودی به این کلاس داده می شود.درصورتی که این مقدار 0 باشد تحلیل داده ها بدون smoothing صورت می گیرد و در غیر این صورت alpha ضریب اعمال شده در smoothing  است(راجع به smoothing جلو تر صحبت شده است).در ادامه توابع این کلاس را معرفی کرده و توضیح مختصری راجع به هر یک می دهیم.\n",
    " </div>"
   ]
  },
  {
   "cell_type": "markdown",
   "metadata": {},
   "source": [
    "<div style=\"direction:rtl;font-size: 20px;text-align: justify;line-height: 1.6;\"> \n",
    "    <b>پیش پردازش داده</b>\n",
    "</div>\n",
    "<div style=\"direction:rtl;font-size: 17px;text-align: justify;line-height: 1.6;padding-bottom:3px;paddingtop:8px;\">\n",
    "    برای پیش پردازش داده لازم است که آن را از جهات مختلف از جمله حذف کلمات پر تکرار یا stopwords،تبدیل کلمات به ریشه و حذف علاوئم نگارشی فیلتر کنیم.بنابراین در ابتدا به کمک کتابخانه هضم داده ها نرمالایز شدند(فاصله به نیم فاصله تبدیل شده تا کلمات مرتبط جدا از هم در نظر گرفته نشوند).سپس به کمک word_tokenizer داده ها از هم جدا شده و به صورت یک لیست در آمده تا بر روی کلمات آن پردازش شود.در ادامه به کمک stemer و lemmatizer کلمات ریشه یابی شده اند.در انتها نیز stop_wordها یا کلمات پرتکرار حذف شده اند.\n",
    "    <br>\n",
    "    جهت پردازش متن و تحلیل اطلاعات از هر دو ستون کامنت وعنوان استفاده شده است.\n",
    "<br/>\n",
    "    <b>۱)در گزارش کار خود،جایگزین کردن کلمات با روش stemming یا lemmatization را توضیح دهید و تاثیر آن را تحلیل کنید.</b>\n",
    "    <br/>\n",
    "    هر دو روش برای تبدیل واژه ها به یک ریشه ی مشترک و حذف قسمت های اضافی کلمات هستند.\n",
    "stemming به کمک حذف پسوند با پیشوند کلمات را به شکل ریشه خود کاهش می دهد و آن ها را به یک فرم مشترک می برد حتی اگر ریشه ی به دست آمده معنی نداشته باشد اما lemmatization فرآیندی است که برای کاهش کلمات به ریشه ی آن زبان یا فرهنگ لغت و معنی کلمه در جمله نگاه می کند.stemming از آن جا که تلاشی برای یافتن ریشه ی بامعنا ندارد سرعت بیشتری دارد اما دقت lemmatization بیشتر است.در این پروژه استفاده از هر دو نتیجه ی بهتری داد در نتیجه از هر دوی آن ها استفاده شده است.\n",
    "    <br/>\n",
    "تابع process_data وظیفه پیش پردازش داده را بر عهده دارد.همچنین stopword ها در یک فایل نوشته شده که تابع get_stopwords آن ها را بر می گرداند.\n",
    "    \n",
    " </div>"
   ]
  },
  {
   "cell_type": "markdown",
   "metadata": {},
   "source": [
    "<div style=\"direction:rtl;font-size: 20px;text-align: justify;line-height: 1.6;\"> \n",
    "    <b>فرآیند مسئله</b>\n",
    "</div>\n",
    "<div style=\"direction:rtl;font-size: 17px;text-align: justify;line-height: 1.6;padding-bottom:3px;paddingtop:8px;\">\n",
    "    برای دسته بندی کامنت ها از مدل bag of words استفاده شده است.به این صورت که هر کلمه مستقل از جایگاهش در جمله در نظر گرفته شده است و feature های مسئله تعداد هر کلمه در کلاس مربوطه است.یعنی هر چه تعداد یک کلمه در یک کلاس بیشتر باشد احتمال این که آن کلمه متعلق به آن کلاس باشد بیشتر است.برای حل این مسئله از naïve bayes استفاده شده که ریشه در عبارت زیر دارد.\n",
    "</div>"
   ]
  },
  {
   "cell_type": "markdown",
   "metadata": {},
   "source": [
    "$$ P(c \\mid x) = \\frac{P(x \\mid c) \\, P(c)}{P(x)} $$\n",
    "$$ c = {recommended \\mid not-recommended} $$\n",
    "$$ x = words $$ <br>"
   ]
  },
  {
   "cell_type": "markdown",
   "metadata": {},
   "source": [
    "<div style=\"direction:rtl;font-size: 17px;text-align: justify;line-height: 1.6;padding-bottom:3px;paddingtop:8px;\">\n",
    "    <b>۲) در گزارش کار خود توضیح دهید که هر کدام از (evidence,likelihood,prior,posterior) بیانگر چه مفهومی در این مسئله هستند و چگونه محاسبه می شود.</b>\n",
    "    <b>Posterior $P(c|x)$:  </b>\n",
    "    <br/>\n",
    "    احتمال این که یک کامنت به همراه عنوان به شرط وجود کلمه recommended یا not recommended باشد.که به کمک تساوی بالا و سه مقدار گفته شده در زیر محاسبه می شود.\n",
    "    <br/>\n",
    "    <b>Class Prior $P(c)$: </b>\n",
    "    <br/>\n",
    "    احتمال اتفاق c در کل داده و بدون هیچ شرایط و پیش فرضی یعنی تعداد کامنت های recommended یا not recommended تقسیم بر تعداد کل کامنت هادر کل داده و بدون هیچ شرایط و پیش فرضی\n",
    "    <br/>\n",
    "    <b>Likelihood $P(x|c)$: </b>\n",
    "    <br/>\n",
    "    احتمال مشاهده کلمه x در صورتی که بدانیم کلاس مربوط به recommend یا not recommend است.یعنی تعداد تکرار داده در یک کلاس تقسیم بر تعداد کلمه های موجود در آن کلاس\n",
    "    <br/>\n",
    "    <b>Evidence $P(x)$: </b>\n",
    "    <br/>\n",
    "    به طور کلی و مستقل از کلاس یک کلمه به چه احتمالی مشاهده می شود.یعنی تعداد تکرار کلمه در کل داده تقسیم بر تعداد \n",
    "    کل کلمه ها ی موجود در متن\n",
    "    <br/>\n",
    "    <br/>\n",
    "    برای دسته بندی نظرات با توجه به کامنت و عنوان باید احتمال زیر محاسبه شود که در آن  c می تواند recommend یا  not recommend و x1 تا xnبیانگر کلمات آن هستند.\n",
    "   \n",
    "</div>"
   ]
  },
  {
   "cell_type": "markdown",
   "metadata": {},
   "source": [
    "$$ P(c \\mid x_1,...,x_n) =  \\frac{P(x_1,...,x_n \\mid c) \\, P(c)}{P(x_1,...,x_n)}$$"
   ]
  },
  {
   "cell_type": "markdown",
   "metadata": {},
   "source": [
    "<div style=\"direction:rtl;font-size: 17px;text-align: justify;line-height: 1.6;padding-bottom:3px;paddingtop:8px;\">\n",
    "همان طور که مشاهده می شود در عبارت بالا مخرج به کلاس وابستگی ندارد و برای هردو کلاس عدد یکسانی می دهد پس می توان آن را نادیده گرفت.همچنین naïve bayes بیان می کند که به شرط اینکه کلاس را بدانیم کلمات از یکدیگر مستقل هستند بنابراین می توان گفت:\n",
    "</div>"
   ]
  },
  {
   "cell_type": "markdown",
   "metadata": {},
   "source": [
    "$$ P(c \\mid x_1,...,x_n) \\propto p(c, x_1,...,x_n)= p(c)p(x_1 \\mid c)p(x_2 \\mid c)= p(c) \\prod_{i=1}^{n} p(x_i \\mid c) $$<br>\n"
   ]
  },
  {
   "cell_type": "markdown",
   "metadata": {},
   "source": [
    "<div style=\"direction:rtl;font-size: 17px;text-align: justify;line-height: 1.6;padding-bottom:3px;paddingtop:8px;\">\n",
    " پس از محاسبه ی عبارت بالا بر روی هر کلاس هرکامنت را به کلاسی اختصاص می دهیم که احتمال فوق برای آن بیشتر باشد.\n",
    "</div>"
   ]
  },
  {
   "cell_type": "markdown",
   "metadata": {},
   "source": [
    "<div style=\"direction:rtl;font-size: 20px;text-align: justify;line-height: 1.6;\"> \n",
    "    <b>additive smoothing</b>\n",
    "</div>\n",
    "<div style=\"direction:rtl;font-size: 17px;text-align: justify;line-height: 1.6;padding-bottom:3px;paddingtop:8px;\">\n",
    "    ممکن است در کامنت هایی که مربوط به دسته ی recommended هستند کلمه ای وجود داشتخ باشد که در کامنت های not_recommended نباشد و بالعکس، با حتی کلمه ای در کامنت جدیدی که می خواهیم بررسی کنیم باشد که در هیج کدام از دو کلاسی که در داده train دیدیم نباشد.برای حل این مشکل از additive smoothing با ضریب آلفا استفاده می شود که آلفا به عنوان ورودی به کلاس داده می شود.\n",
    "    <br/>\n",
    "    <b>۳) در گزارش خود با در نظر داشتن naïve bayes توضیح دهید چرا این اتفاق رخ می دهد.</b>\n",
    "    <br/>\n",
    "    فرمول گفته شده در قسمت بالا نشان می دهد که برای هر کلمه احتمال وجود هر کلمه به شرط دانستن کلاس در عبارت ضرب می شود حال اگر یک کلمه در آن کلاس وجود نداشته باشد به تنهایی باعث می شود که کل عبارت صفر شود هرچند احتمال کلمات دیگر خیلی باشد.بنابراین مدل ما فقط به علت نبود یک کلمه با قطعیت تشخیص می دهد که کامنت مربوط به این کلاس نبوده است.\n",
    "    <br/>\n",
    "   <b> ۴)درباره روش additive smoothing  تحقیق کنید و با پیاده سازی آن در پروژه این مشکل را برطرف کنید.در گزارش خود این روش را توضیح دهید و بگویید چه طور به حل این مشکل کمک می کند.</b>\n",
    "    <br/>\n",
    "    روش additive smoothing با اضافه کردن عدد به صورت و مخرج باعث می شود حتی اگر کلمه در یک کلاس وجود نداشته باشد احتمال آن را صفر در نگیرد تا کل جمله برابر صفر نشود.در واقع پس از اختصاص آلفا در این روش محاسبه ی احتمال به صورت زیر تغییر می کند.\n",
    "</div>"
   ]
  },
  {
   "cell_type": "markdown",
   "metadata": {},
   "source": [
    "$$ P(x_i|c=\\text{recommended} | \\text{not_recomended}) = \\frac{\\text{Number of x_i in (recommended | not_recommended)} + \\alpha}{\\text{Number of (recommended | not_recommended) words} + \\text{Number of Unique Words} \\times \\alpha } $$"
   ]
  },
  {
   "cell_type": "code",
   "execution_count": 6,
   "metadata": {},
   "outputs": [],
   "source": [
    "class Naive_bayes:\n",
    "    \n",
    "    def  __init__(self,alpha):\n",
    "        self.alpha = alpha\n",
    "        \n",
    "    def get_stopwords(self,file_name):\n",
    "        stopwords = []\n",
    "        with open(file_name, \"r\") as fd:\n",
    "            lines = fd.read().splitlines()\n",
    "            stopwords +=lines\n",
    "        return set(stopwords)\n",
    "        \n",
    "       \n",
    "    def process_data(self,train):\n",
    "        normalizer = Normalizer()\n",
    "        lemmatizer = Lemmatizer()\n",
    "        stemmer = Stemmer()\n",
    "        stop_words = self.get_stopwords(\"stopwords\")\n",
    "        data = pd.DataFrame()\n",
    "        data['title list'] = train['title'].apply(normalizer.normalize)\n",
    "        data['comment list'] = train['comment'].apply(normalizer.normalize)\n",
    "        data['title list'] = data['title list'].apply(word_tokenize)\n",
    "        data['comment list'] = data['comment list'].apply(word_tokenize)\n",
    "\n",
    "        data['comment list'] = data['comment list'].apply(lambda words: [stemmer.stem(i) for i in words])\n",
    "        data['comment list'] = data['comment list'].apply(lambda words: [lemmatizer.lemmatize(i) for i in words])\n",
    "        data['comment list'] = data['comment list'].apply(lambda words: [word for word in words if (word not in stop_words )])\n",
    "        \n",
    "        data['title list'] = data['title list'].apply(lambda words: [stemmer.stem(i) for i in words])\n",
    "        data['title list'] = data['title list'].apply(lambda words: [lemmatizer.lemmatize(i) for i in words])\n",
    "        data['title list'] = data['title list'].apply(lambda words: [word for word in words if (word not in stop_words)])\n",
    "        \n",
    "        data['recommend'] = train.recommend\n",
    "        return data \n",
    "    \n",
    "    def tokenize_data(self,train):\n",
    "        data = pd.DataFrame()\n",
    "        data['title list'] = train['title'].apply(word_tokenize)\n",
    "        data['comment list'] = train['comment'].apply(word_tokenize)\n",
    "        data['recommend'] = train.recommend\n",
    "        return data\n",
    "            \n",
    "    def find_words_probability(self,train):\n",
    "        recomended_title = train[train['recommend'] == \"recommended\"]['title list']\n",
    "        recomended_comment = train[train['recommend'] == \"recommended\"]['comment list']\n",
    "        not_recomended_title = train[train['recommend'] == \"not_recommended\"]['title list']\n",
    "        not_recomended_comment = train[train['recommend'] == \"not_recommended\"]['comment list']\n",
    "        \n",
    "        words = set()\n",
    "        all_words = train['title list']+train['comment list']\n",
    "        for row in all_words:\n",
    "            for word in row:\n",
    "                words.add(word)\n",
    "        words = list(words)\n",
    "        recommended_sum = 0\n",
    "        not_recommended_sum = 0\n",
    "        \n",
    "        count_dict = {}\n",
    "        for word in words:\n",
    "            #{word: [recomended_title_words_count,recomended_comment_words_count,not_recomended_title_words_count,not_recomended_comment_words_count]}\n",
    "            count_dict[word] = [0,0,0,0]\n",
    "            \n",
    "        for row in recomended_title:\n",
    "            for word in row:\n",
    "                count_dict[word][0] +=1\n",
    "                recommended_sum+=1\n",
    "        \n",
    "        for row in recomended_comment:\n",
    "            for word in row:\n",
    "                count_dict[word][1] +=1\n",
    "                recommended_sum+=1\n",
    "                \n",
    "        for row in not_recomended_title:\n",
    "            for word in row:\n",
    "                count_dict[word][2] +=1\n",
    "                not_recommended_sum+=1\n",
    "        \n",
    "        for row in not_recomended_comment:\n",
    "            for word in row:\n",
    "                count_dict[word][3] +=1\n",
    "                not_recommended_sum+=1\n",
    "    \n",
    "        data = {}\n",
    "        for word in words: \n",
    "            data[word] = {'recommended_count':count_dict[word][0]+count_dict[word][1],\n",
    "                   'not_recommended_count':count_dict[word][2]+count_dict[word][3]}\n",
    "            \n",
    "        recommended_denominator = recommended_sum + self.alpha*len(words)\n",
    "        not_recommended_denominator = not_recommended_sum + self.alpha*len(words)\n",
    "        for word in words:\n",
    "            data[word]['recommended_probability'] = (data[word]['recommended_count']+self.alpha)/(recommended_denominator)\n",
    "            data[word]['not_recommended_probability'] = (data[word]['not_recommended_count']+self.alpha)/(not_recommended_denominator)\n",
    "    \n",
    "        return data\n",
    "    \n",
    "    def classify_data(self,train,test):\n",
    "        train_words = set()\n",
    "        train_words_df = train['title list']+train['comment list']\n",
    "        for row in train_words_df:\n",
    "            for word in row:\n",
    "                train_words.add(word)\n",
    "\n",
    "        test_words_df = test['title list']+test['comment list']\n",
    "        probs = self.find_words_probability(train)\n",
    "        prediction = []\n",
    "        if(self.alpha>0):\n",
    "            prior_recommended = np.log(len(train[train['recommend'] == 'recommended'])/len(train['recommend']))\n",
    "            prior_not_recommended = np.log(len(train[train['recommend'] == 'not_recommended'])/len(train['recommend']))\n",
    "        else:\n",
    "            prior_recommended = len(train[train['recommend'] == 'recommended'])/len(train['recommend'])\n",
    "            prior_not_recommended = len(train[train['recommend'] == 'not_recommended'])/len(train['recommend'])\n",
    "        for row in test_words_df:\n",
    "            prob_recommended = prior_recommended\n",
    "            prob_not_recommended = prior_not_recommended \n",
    "            for word in row:\n",
    "                if(word in train_words):\n",
    "                    if(self.alpha>0):\n",
    "                        prob_recommended += np.log(probs[word]['recommended_probability'])\n",
    "                        prob_not_recommended += np.log(probs[word]['not_recommended_probability'])\n",
    "                    else:\n",
    "                        prob_recommended += probs[word]['recommended_probability']\n",
    "                        prob_not_recommended += probs[word]['not_recommended_probability']\n",
    "                    \n",
    "            if(prob_recommended > prob_not_recommended):\n",
    "                prediction.append('recommended')\n",
    "            else:\n",
    "                prediction.append('not_recommended')\n",
    "        classified_data = pd.DataFrame()\n",
    "        classified_data['prediction'] = prediction\n",
    "        classified_data['recommend'] = test.recommend\n",
    "        return classified_data"
   ]
  },
  {
   "cell_type": "markdown",
   "metadata": {},
   "source": [
    "<div style=\"direction:rtl;font-size: 20px;text-align: justify;line-height: 1.6;\"> \n",
    "    <b>ارزیابی</b>\n",
    "</div>\n",
    "<div style=\"direction:rtl;font-size: 17px;text-align: justify;line-height: 1.6;padding-bottom:3px;paddingtop:8px;\">\n",
    "    برای ارزیابی مدل از چهار معیار زیر استفاده شده است:\n",
    "</div>"
   ]
  },
  {
   "cell_type": "markdown",
   "metadata": {},
   "source": [
    "$$ Accuracy = \\frac{Corrected Detected}{Total} $$\n",
    "\n",
    "\n",
    "$$ Precision = \\frac{Corrected Detected Recommended}{All Detected Recommended(including wrong ones} $$\n",
    "\n",
    "\n",
    "$$ Recall = \\frac{Corrected Detected Recommended}{Total Recommended} $$\n",
    "\n",
    "\n",
    "$$ F1 = 2*\\frac{Precision*Recall}{Precision+Recall} $$"
   ]
  },
  {
   "cell_type": "markdown",
   "metadata": {},
   "source": [
    "<div style=\"direction:rtl;font-size: 17px;text-align: justify;line-height: 1.6;padding-bottom:3px;paddingtop:8px;\">\n",
    "    <b>۵) در گزارش کار خود توضیح دهید که چرا مقدار precision و recall هر کدام به تنهایی برای ارزیابی مدل کافی نیست؟برای هر کدام مدلی را مثال بزنید که در آن ، این معیار مقدار بالایی دارد ولی مدل خوب کار نمی کند.</b>\n",
    "    <br/>\n",
    "    <li>precision</li>\n",
    "    فرض کنید مدلی داریم که فقط یک کامنت را از میان تمام کامنت ها recommened در نظر می گیرد  و آن کامنت در اصل نیز recommend بوده است(در واقع به جز یکی همه ی کامنت ها به کلاس not recommended اختصاص داده می شوند)بنابراین تعداد کامنت های recommend ای که به درستی تشخیص داده شده است برابر ۱ است. هم چنین تعداد تمام کامنت هایی که recommend تشخیص داده شده اند نیز برابر ۱ است.یعنی دقت این مدل ۱۰۰٪  است که به وضوح غلط است و مدل به خوبی کار نمی کند.\n",
    "    <li>recall</li>\n",
    "    مدلی را در نظر بگیرید که همه ی کامنت ها را در کلاس recommended قرار می دهد.این مدل همه ی کامنت هایی که recommed بوده اند را به درستی تشخص داده اما همه ی کامنت هایی که not recommend بوده اند به غلط در دسته ی recommended قرار گرفته اند.در این مدل Corrected Detected Recommend برابر با Total Recommendedاست یعنی recall برابر ۱۰۰٪  است در حالی که این مدل به خوبی کار نکرده است و تمام not recommended ها را اشتباه تشخیص داده است.\n",
    "    <br/>\n",
    "    <b>۶)  در گزارش کار خود توضیح دهید معیار F1 از چه نوع میانگین گیری بین precision و recall استفاده می کند؟علت آن \n",
    "        به نظر شما چیست؟\n",
    "    </b>\n",
    "    <br/>\n",
    "       معیار F1 از میانگین گیری هارمونیک استفاده می کند. این میانگین گیری معمولا وقتی استفاده می شود که میخواهیم بین نرخ ها میانگین بگیریم و به صورت زیر محاسبه می شود:\n",
    "        </div>\n",
    "    "
   ]
  },
  {
   "cell_type": "markdown",
   "metadata": {},
   "source": [
    "$$ mean = \\frac{n}{\\frac{1}{x_1}+\\frac{1}{x_2}+\\frac{1}{x_3}+...+\\frac{1}{x_n}} $$"
   ]
  },
  {
   "cell_type": "markdown",
   "metadata": {},
   "source": [
    "<div style=\"direction:rtl;font-size: 17px;text-align: justify;line-height: 1.6;padding-bottom:3px;paddingtop:8px;\">\n",
    " در سوال قبل دیدیم که هیچ یک ازprecision و recall برای ارزیابی مدل مناسب نیست اما ترکیب آن ها نتایج بهتری به ما می دهد بنابراین F1 با میانگین گیری معیار بهتری از مدل به ما می دهد.همچنین در این میانگین پاسخ زمانی خوب می شود که هر دو precision و recall مقادیر بالایی داشته باشند در صورتی که یک میانگین گیری معمولی در صورتی که یکی از آن ها خیلی بالا باشد عدد خوبی میدهد.علاوه بر این هنگامی که precision و recall به هم نزدیک باشند این دو میانگین گیری اعداد نزدیک به هم می دهند.\n",
    "    </div>"
   ]
  },
  {
   "cell_type": "code",
   "execution_count": 7,
   "metadata": {},
   "outputs": [],
   "source": [
    "class Evaluate:\n",
    "    def __init__(self,data):\n",
    "        self.data = data\n",
    "    \n",
    "    def calculate_accuracy(self):\n",
    "        accurate = list(self.data['prediction'] == self.data['recommend'])\n",
    "        true_number = accurate.count(True)\n",
    "        return true_number/len(self.data)\n",
    "    \n",
    "    def calculate_precision(self):\n",
    "        correct_detected_recommended = self.data[(self.data['recommend']=='recommended') & (self.data['prediction']=='recommended')]\n",
    "        all_detected_recommended = self.data[self.data['prediction'] == 'recommended']\n",
    "        return len(correct_detected_recommended)/len(all_detected_recommended)\n",
    "    \n",
    "    def calculate_recall(self):\n",
    "        correct_detected_recommended = self.data[(self.data['recommend']=='recommended') & (self.data['prediction']=='recommended')]\n",
    "        total_recommended = self.data[self.data['recommend'] == 'recommended']\n",
    "        return len(correct_detected_recommended)/len(total_recommended)\n",
    "    \n",
    "    def calculate_F1(self):\n",
    "        precision = self.calculate_precision()\n",
    "        recall = self.calculate_recall()\n",
    "        return 2*precision*recall/(precision+recall)"
   ]
  },
  {
   "cell_type": "code",
   "execution_count": 8,
   "metadata": {},
   "outputs": [],
   "source": [
    "test = pd.read_csv('CA3_dataset/comment_test.csv')\n",
    "train = pd.read_csv('CA3_dataset/comment_train.csv')"
   ]
  },
  {
   "cell_type": "code",
   "execution_count": 9,
   "metadata": {},
   "outputs": [
    {
     "name": "stdout",
     "output_type": "stream",
     "text": [
      "accuracy:  0.9425\n",
      "F1:  0.9430693069306931\n"
     ]
    }
   ],
   "source": [
    "evaluation = {'accuracy':[0]*4,'precision':[0]*4,'recall':[0]*4,'F1':[0]*4}\n",
    "#a\n",
    "nb = Naive_bayes(0.6)\n",
    "train_data = nb.process_data(train)\n",
    "test_data = nb.process_data(test)\n",
    "result = nb.classify_data(train_data,test_data)\n",
    "ev = Evaluate(result)\n",
    "evaluation['F1'][0] = ev.calculate_F1()\n",
    "evaluation['accuracy'][0] = ev.calculate_accuracy()\n",
    "evaluation['precision'][0] = ev.calculate_precision()\n",
    "evaluation['recall'][0] = ev.calculate_recall()\n",
    "print(\"accuracy: \",evaluation['accuracy'][0])\n",
    "print(\"F1: \",evaluation['F1'][0])\n"
   ]
  },
  {
   "cell_type": "code",
   "execution_count": 10,
   "metadata": {},
   "outputs": [
    {
     "name": "stdout",
     "output_type": "stream",
     "text": [
      "accuracy:  0.93625\n",
      "F1:  0.9368029739776951\n"
     ]
    }
   ],
   "source": [
    "#b\n",
    "nb = Naive_bayes(0.6)\n",
    "train_data = nb.tokenize_data(train)\n",
    "test_data = nb.tokenize_data(test)\n",
    "result = nb.classify_data(train_data,test_data)\n",
    "ev = Evaluate(result)\n",
    "evaluation['F1'][1] = ev.calculate_F1()\n",
    "evaluation['accuracy'][1] = ev.calculate_accuracy()\n",
    "evaluation['precision'][1] = ev.calculate_precision()\n",
    "evaluation['recall'][1] = ev.calculate_recall()\n",
    "print(\"accuracy: \",evaluation['accuracy'][1])\n",
    "print(\"F1: \",evaluation['F1'][1])"
   ]
  },
  {
   "cell_type": "code",
   "execution_count": 11,
   "metadata": {},
   "outputs": [
    {
     "name": "stdout",
     "output_type": "stream",
     "text": [
      "accuracy:  0.7975\n",
      "F1:  0.8179775280898877\n"
     ]
    }
   ],
   "source": [
    "#c\n",
    "nb = Naive_bayes(0)\n",
    "train_data = nb.process_data(train)\n",
    "test_data = nb.process_data(test)\n",
    "result = nb.classify_data(train_data,test_data)\n",
    "ev = Evaluate(result)\n",
    "evaluation['F1'][2] = ev.calculate_F1()\n",
    "evaluation['accuracy'][2] = ev.calculate_accuracy()\n",
    "evaluation['precision'][2] = ev.calculate_precision()\n",
    "evaluation['recall'][2] = ev.calculate_recall()\n",
    "print(\"accuracy: \",evaluation['accuracy'][2])\n",
    "print(\"F1: \",evaluation['F1'][2])"
   ]
  },
  {
   "cell_type": "code",
   "execution_count": 12,
   "metadata": {},
   "outputs": [
    {
     "name": "stdout",
     "output_type": "stream",
     "text": [
      "accuracy:  0.6775\n",
      "F1:  0.7509652509652509\n"
     ]
    }
   ],
   "source": [
    "#d\n",
    "nb = Naive_bayes(0)\n",
    "train_data = nb.tokenize_data(train)\n",
    "test_data = nb.tokenize_data(test)\n",
    "result = nb.classify_data(train_data,test_data)\n",
    "ev = Evaluate(result)\n",
    "evaluation['F1'][3] = ev.calculate_F1()\n",
    "evaluation['accuracy'][3] = ev.calculate_accuracy()\n",
    "evaluation['precision'][3] = ev.calculate_precision()\n",
    "evaluation['recall'][3] = ev.calculate_recall()\n",
    "print(\"accuracy: \",evaluation['accuracy'][3])\n",
    "print(\"F1: \",evaluation['F1'][3])"
   ]
  },
  {
   "cell_type": "markdown",
   "metadata": {},
   "source": [
    "<div style=\"direction:rtl;font-size: 17px;text-align: justify;line-height: 1.6;padding-bottom:3px;paddingtop:8px;\">\n",
    "<b>۷)  در گزارش کار خود در یک جدول مقدار 4 معیار گفته شده را برای چهار حالت به دست آورید.</b>\n",
    "</div>"
   ]
  },
  {
   "cell_type": "code",
   "execution_count": 13,
   "metadata": {},
   "outputs": [
    {
     "data": {
      "text/html": [
       "<style  type=\"text/css\" >\n",
       "    #T_34656a0c_2b50_11eb_9f34_acde48001122 th {\n",
       "          text-align: center;\n",
       "    }    #T_34656a0c_2b50_11eb_9f34_acde48001122 caption {\n",
       "          text-align: center;\n",
       "          font-size: 14px;\n",
       "    }    #T_34656a0c_2b50_11eb_9f34_acde48001122row0_col0 {\n",
       "            text-align:  center;\n",
       "        }    #T_34656a0c_2b50_11eb_9f34_acde48001122row0_col1 {\n",
       "            text-align:  center;\n",
       "        }    #T_34656a0c_2b50_11eb_9f34_acde48001122row0_col2 {\n",
       "            text-align:  center;\n",
       "        }    #T_34656a0c_2b50_11eb_9f34_acde48001122row0_col3 {\n",
       "            text-align:  center;\n",
       "        }    #T_34656a0c_2b50_11eb_9f34_acde48001122row1_col0 {\n",
       "            text-align:  center;\n",
       "        }    #T_34656a0c_2b50_11eb_9f34_acde48001122row1_col1 {\n",
       "            text-align:  center;\n",
       "        }    #T_34656a0c_2b50_11eb_9f34_acde48001122row1_col2 {\n",
       "            text-align:  center;\n",
       "        }    #T_34656a0c_2b50_11eb_9f34_acde48001122row1_col3 {\n",
       "            text-align:  center;\n",
       "        }    #T_34656a0c_2b50_11eb_9f34_acde48001122row2_col0 {\n",
       "            text-align:  center;\n",
       "        }    #T_34656a0c_2b50_11eb_9f34_acde48001122row2_col1 {\n",
       "            text-align:  center;\n",
       "        }    #T_34656a0c_2b50_11eb_9f34_acde48001122row2_col2 {\n",
       "            text-align:  center;\n",
       "        }    #T_34656a0c_2b50_11eb_9f34_acde48001122row2_col3 {\n",
       "            text-align:  center;\n",
       "        }    #T_34656a0c_2b50_11eb_9f34_acde48001122row3_col0 {\n",
       "            text-align:  center;\n",
       "        }    #T_34656a0c_2b50_11eb_9f34_acde48001122row3_col1 {\n",
       "            text-align:  center;\n",
       "        }    #T_34656a0c_2b50_11eb_9f34_acde48001122row3_col2 {\n",
       "            text-align:  center;\n",
       "        }    #T_34656a0c_2b50_11eb_9f34_acde48001122row3_col3 {\n",
       "            text-align:  center;\n",
       "        }</style><table id=\"T_34656a0c_2b50_11eb_9f34_acde48001122\" ><thead>    <tr>        <th class=\"blank level0\" ></th>        <th class=\"col_heading level0 col0\" >accuracy</th>        <th class=\"col_heading level0 col1\" >precision</th>        <th class=\"col_heading level0 col2\" >recall</th>        <th class=\"col_heading level0 col3\" >F1</th>    </tr></thead><tbody>\n",
       "                <tr>\n",
       "                        <th id=\"T_34656a0c_2b50_11eb_9f34_acde48001122level0_row0\" class=\"row_heading level0 row0\" >a</th>\n",
       "                        <td id=\"T_34656a0c_2b50_11eb_9f34_acde48001122row0_col0\" class=\"data row0 col0\" >0.942500</td>\n",
       "                        <td id=\"T_34656a0c_2b50_11eb_9f34_acde48001122row0_col1\" class=\"data row0 col1\" >0.933824</td>\n",
       "                        <td id=\"T_34656a0c_2b50_11eb_9f34_acde48001122row0_col2\" class=\"data row0 col2\" >0.952500</td>\n",
       "                        <td id=\"T_34656a0c_2b50_11eb_9f34_acde48001122row0_col3\" class=\"data row0 col3\" >0.943069</td>\n",
       "            </tr>\n",
       "            <tr>\n",
       "                        <th id=\"T_34656a0c_2b50_11eb_9f34_acde48001122level0_row1\" class=\"row_heading level0 row1\" >b</th>\n",
       "                        <td id=\"T_34656a0c_2b50_11eb_9f34_acde48001122row1_col0\" class=\"data row1 col0\" >0.936250</td>\n",
       "                        <td id=\"T_34656a0c_2b50_11eb_9f34_acde48001122row1_col1\" class=\"data row1 col1\" >0.928747</td>\n",
       "                        <td id=\"T_34656a0c_2b50_11eb_9f34_acde48001122row1_col2\" class=\"data row1 col2\" >0.945000</td>\n",
       "                        <td id=\"T_34656a0c_2b50_11eb_9f34_acde48001122row1_col3\" class=\"data row1 col3\" >0.936803</td>\n",
       "            </tr>\n",
       "            <tr>\n",
       "                        <th id=\"T_34656a0c_2b50_11eb_9f34_acde48001122level0_row2\" class=\"row_heading level0 row2\" >c</th>\n",
       "                        <td id=\"T_34656a0c_2b50_11eb_9f34_acde48001122row2_col0\" class=\"data row2 col0\" >0.797500</td>\n",
       "                        <td id=\"T_34656a0c_2b50_11eb_9f34_acde48001122row2_col1\" class=\"data row2 col1\" >0.742857</td>\n",
       "                        <td id=\"T_34656a0c_2b50_11eb_9f34_acde48001122row2_col2\" class=\"data row2 col2\" >0.910000</td>\n",
       "                        <td id=\"T_34656a0c_2b50_11eb_9f34_acde48001122row2_col3\" class=\"data row2 col3\" >0.817978</td>\n",
       "            </tr>\n",
       "            <tr>\n",
       "                        <th id=\"T_34656a0c_2b50_11eb_9f34_acde48001122level0_row3\" class=\"row_heading level0 row3\" >d</th>\n",
       "                        <td id=\"T_34656a0c_2b50_11eb_9f34_acde48001122row3_col0\" class=\"data row3 col0\" >0.677500</td>\n",
       "                        <td id=\"T_34656a0c_2b50_11eb_9f34_acde48001122row3_col1\" class=\"data row3 col1\" >0.611635</td>\n",
       "                        <td id=\"T_34656a0c_2b50_11eb_9f34_acde48001122row3_col2\" class=\"data row3 col2\" >0.972500</td>\n",
       "                        <td id=\"T_34656a0c_2b50_11eb_9f34_acde48001122row3_col3\" class=\"data row3 col3\" >0.750965</td>\n",
       "            </tr>\n",
       "    </tbody></table>"
      ],
      "text/plain": [
       "<pandas.io.formats.style.Styler at 0x1a27823e10>"
      ]
     },
     "execution_count": 13,
     "metadata": {},
     "output_type": "execute_result"
    }
   ],
   "source": [
    "labels = [\"a\",\"b\",\"c\",\"d\"]\n",
    "result = {}\n",
    "for i,label in enumerate(labels):\n",
    "    result[label] = {\"accuracy\":evaluation['accuracy'][i],\"precision\":evaluation['precision'][i],\"recall\":evaluation['recall'][i],\"F1\":evaluation['F1'][i]}\n",
    "result_df = pd.DataFrame(data=result).T\n",
    "styles = [{'selector':'th','props':[('text-align','center')]},{'selector':'caption','props':[('text-align','center'),('font-size', '14px')]}]\n",
    "result_df = result_df.style.set_properties(**{'text-align': 'center'}).set_table_styles(styles)\n",
    "result_df"
   ]
  },
  {
   "cell_type": "code",
   "execution_count": 14,
   "metadata": {},
   "outputs": [
    {
     "data": {
      "image/png": "[encoded data removed]",
      "text/plain": [
       "<Figure size 1080x360 with 1 Axes>"
      ]
     },
     "metadata": {
      "needs_background": "light"
     },
     "output_type": "display_data"
    }
   ],
   "source": [
    "labels = [\"a\",\"b\",\"c\",\"d\"]\n",
    "plt.figure(figsize=(15, 5))\n",
    "plt.plot(labels,evaluation['accuracy'], '-o', label=\"accuracy\")\n",
    "plt.plot(labels,evaluation['precision'], '-o', label=\"precision\")\n",
    "plt.plot(labels,evaluation['recall'], '-o', label=\"recall\")\n",
    "plt.plot(labels,evaluation['F1'], '-o', label=\"F1\")\n",
    "plt.title(\"reults\")\n",
    "plt.legend(loc=\"lower left\")\n",
    "plt.show()"
   ]
  },
  {
   "cell_type": "markdown",
   "metadata": {},
   "source": [
    "<div style=\"direction:rtl;font-size: 17px;text-align: justify;line-height: 1.6;padding-bottom:3px;paddingtop:8px;\">\n",
    "<b>۸)در گزارش خود مقادیر به دست آمده در بخش قبل را تحلیل کنید.</b>\n",
    "    <br/>\n",
    "   در حالت a که از هم از پیش پردازش و هم از smoothing استفاده شد نتایج بهتری به دست آمده است همچنین از آن جا که نتایج b از c بهتر است می توان گفت تاثیر smoothing در این داده ها بهتر از پیش پردازش بوده است.در قسمت آخر تمام معیار ها کمتر از مقادیر قبلی است به جز recall همان طور که قبلا نیز گفته شد recall به تنهایی معیار درستی برای سنجش مدل نیست در واقع می توان حدس زد که در حالت آخر بیش تر داده ها به کلاس recommended اختصاص داده شده اند  و کمی جهت گیری صورت گرفته است. اگر به روند داده ها در جدول توجه کنیم متوجه می شویم هر چه مدل بهتر باشد این معیار ها اعداد نزدیک تری به یکدیگر به دست می آید در حالی که در حالت آخر اختلاف میان معیار ها بیشتر دیده می شود.\n",
    "    <br/>\n",
    "   <b> ۹) در گزارش خود ۵ مورد از کامنت هایی که در داده ی تست هستند و مدل شما آن ها را به اشتباه تشخیص داده است بیاورید(در حالتی که از پیش پردازش و smoothing استفاده شده است)\n",
    "    به نظر شما چه بخش یا بخش هایی از راه حلی که پیش گرفتیم باعث شده این موارد اشتباه تشخیص داده شوند؟\n",
    "</b>\n",
    "</div>"
   ]
  },
  {
   "cell_type": "code",
   "execution_count": 19,
   "metadata": {},
   "outputs": [
    {
     "data": {
      "text/html": [
       "<div>\n",
       "<style scoped>\n",
       "    .dataframe tbody tr th:only-of-type {\n",
       "        vertical-align: middle;\n",
       "    }\n",
       "\n",
       "    .dataframe tbody tr th {\n",
       "        vertical-align: top;\n",
       "    }\n",
       "\n",
       "    .dataframe thead th {\n",
       "        text-align: right;\n",
       "    }\n",
       "</style>\n",
       "<table border=\"1\" class=\"dataframe\">\n",
       "  <thead>\n",
       "    <tr style=\"text-align: right;\">\n",
       "      <th></th>\n",
       "      <th>title</th>\n",
       "      <th>comment</th>\n",
       "      <th>recommend</th>\n",
       "      <th>prediction</th>\n",
       "    </tr>\n",
       "  </thead>\n",
       "  <tbody>\n",
       "    <tr>\n",
       "      <th>1</th>\n",
       "      <td>زیاد مناسب نیست رنگ پس میده یه وقتایی موقع نوشتن</td>\n",
       "      <td>با این قیمت گزینه های بهتری هم میشه گرفت.\\r\\nر...</td>\n",
       "      <td>not_recommended</td>\n",
       "      <td>recommended</td>\n",
       "    </tr>\n",
       "    <tr>\n",
       "      <th>8</th>\n",
       "      <td>نقد پس از خرید</td>\n",
       "      <td>سلام ، راحت شدم از کابل شارژ ، توصیه میشود به ...</td>\n",
       "      <td>recommended</td>\n",
       "      <td>not_recommended</td>\n",
       "    </tr>\n",
       "    <tr>\n",
       "      <th>19</th>\n",
       "      <td>خیالم راحت شد</td>\n",
       "      <td>فندک قبلیم مدام فیوز میسوزوند و یک بار شارژر م...</td>\n",
       "      <td>recommended</td>\n",
       "      <td>not_recommended</td>\n",
       "    </tr>\n",
       "    <tr>\n",
       "      <th>69</th>\n",
       "      <td>بررسی فیلتر سرکان</td>\n",
       "      <td>من خودم جزو افرادی بودم که نزدیک سیزده ساله از...</td>\n",
       "      <td>not_recommended</td>\n",
       "      <td>recommended</td>\n",
       "    </tr>\n",
       "    <tr>\n",
       "      <th>83</th>\n",
       "      <td>چراغ چک موتور خاموش شد</td>\n",
       "      <td>سلام دوستان بعد از استفاده چراغ چک تویوتا کمری...</td>\n",
       "      <td>recommended</td>\n",
       "      <td>not_recommended</td>\n",
       "    </tr>\n",
       "  </tbody>\n",
       "</table>\n",
       "</div>"
      ],
      "text/plain": [
       "                                               title  \\\n",
       "1   زیاد مناسب نیست رنگ پس میده یه وقتایی موقع نوشتن   \n",
       "8                                     نقد پس از خرید   \n",
       "19                                     خیالم راحت شد   \n",
       "69                                 بررسی فیلتر سرکان   \n",
       "83                            چراغ چک موتور خاموش شد   \n",
       "\n",
       "                                              comment        recommend  \\\n",
       "1   با این قیمت گزینه های بهتری هم میشه گرفت.\\r\\nر...  not_recommended   \n",
       "8   سلام ، راحت شدم از کابل شارژ ، توصیه میشود به ...      recommended   \n",
       "19  فندک قبلیم مدام فیوز میسوزوند و یک بار شارژر م...      recommended   \n",
       "69  من خودم جزو افرادی بودم که نزدیک سیزده ساله از...  not_recommended   \n",
       "83  سلام دوستان بعد از استفاده چراغ چک تویوتا کمری...      recommended   \n",
       "\n",
       "         prediction  \n",
       "1       recommended  \n",
       "8   not_recommended  \n",
       "19  not_recommended  \n",
       "69      recommended  \n",
       "83  not_recommended  "
      ]
     },
     "execution_count": 19,
     "metadata": {},
     "output_type": "execute_result"
    }
   ],
   "source": [
    "nb = Naive_bayes(0.6)\n",
    "train_data = nb.process_data(train)\n",
    "test_data = nb.process_data(test)\n",
    "result = nb.classify_data(train_data,test_data)\n",
    "compare_df = test.copy()\n",
    "compare_df['prediction'] = result.prediction\n",
    "different = compare_df[compare_df['prediction']!=compare_df['recommend']][:5]\n",
    "different\n",
    "\n",
    "    \n"
   ]
  },
  {
   "cell_type": "markdown",
   "metadata": {},
   "source": [
    "<div style=\"direction:rtl;font-size: 17px;text-align: justify;line-height: 1.6;padding-bottom:3px;paddingtop:8px;\">\n",
    "ممکن است در پیش پردازش لغاتی حدف شده باشند که در صورت بودن به بهتر شدن مدل کمک میکردند.همچنین احتمال همه ی حروف استفاده شده در داده های تست را نمی دانستیم و در جایی که لغتی وجود نداشت به کمک smoothing و با استفاده از آلفا  برای آن احتمالی در نظر گرفته می شد.\n",
    "</div>"
   ]
  }
 ],
 "metadata": {
  "kernelspec": {
   "display_name": "Python 3",
   "language": "python",
   "name": "python3"
  },
  "language_info": {
   "codemirror_mode": {
    "name": "ipython",
    "version": 3
   },
   "file_extension": ".py",
   "mimetype": "text/x-python",
   "name": "python",
   "nbconvert_exporter": "python",
   "pygments_lexer": "ipython3",
   "version": "3.7.6"
  }
 },
 "nbformat": 4,
 "nbformat_minor": 4
}
